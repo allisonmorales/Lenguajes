{
  "nbformat": 4,
  "nbformat_minor": 0,
  "metadata": {
    "colab": {
      "name": "2-1-AES.ipynb",
      "provenance": [],
      "include_colab_link": true
    },
    "kernelspec": {
      "name": "python3",
      "display_name": "Python 3"
    },
    "language_info": {
      "name": "python"
    }
  },
  "cells": [
    {
      "cell_type": "markdown",
      "metadata": {
        "id": "view-in-github",
        "colab_type": "text"
      },
      "source": [
        "<a href=\"https://colab.research.google.com/github/allisonmorales/Lenguajes/blob/gh-pages/2_1_AES.ipynb\" target=\"_parent\"><img src=\"https://colab.research.google.com/assets/colab-badge.svg\" alt=\"Open In Colab\"/></a>"
      ]
    },
    {
      "cell_type": "code",
      "metadata": {
        "colab": {
          "base_uri": "https://localhost:8080/"
        },
        "id": "fe6xKWvBocNu",
        "outputId": "bed7bb2c-b937-449c-ea3b-ddd4e71ebd8c"
      },
      "source": [
        "!pip install pycrypto"
      ],
      "execution_count": null,
      "outputs": [
        {
          "output_type": "stream",
          "name": "stdout",
          "text": [
            "Collecting pycrypto\n",
            "  Downloading pycrypto-2.6.1.tar.gz (446 kB)\n",
            "\u001b[?25l\r\u001b[K     |▊                               | 10 kB 19.5 MB/s eta 0:00:01\r\u001b[K     |█▌                              | 20 kB 25.9 MB/s eta 0:00:01\r\u001b[K     |██▏                             | 30 kB 31.7 MB/s eta 0:00:01\r\u001b[K     |███                             | 40 kB 35.3 MB/s eta 0:00:01\r\u001b[K     |███▊                            | 51 kB 33.2 MB/s eta 0:00:01\r\u001b[K     |████▍                           | 61 kB 25.0 MB/s eta 0:00:01\r\u001b[K     |█████▏                          | 71 kB 22.6 MB/s eta 0:00:01\r\u001b[K     |█████▉                          | 81 kB 23.4 MB/s eta 0:00:01\r\u001b[K     |██████▋                         | 92 kB 25.2 MB/s eta 0:00:01\r\u001b[K     |███████▍                        | 102 kB 23.1 MB/s eta 0:00:01\r\u001b[K     |████████                        | 112 kB 23.1 MB/s eta 0:00:01\r\u001b[K     |████████▉                       | 122 kB 23.1 MB/s eta 0:00:01\r\u001b[K     |█████████▌                      | 133 kB 23.1 MB/s eta 0:00:01\r\u001b[K     |██████████▎                     | 143 kB 23.1 MB/s eta 0:00:01\r\u001b[K     |███████████                     | 153 kB 23.1 MB/s eta 0:00:01\r\u001b[K     |███████████▊                    | 163 kB 23.1 MB/s eta 0:00:01\r\u001b[K     |████████████▌                   | 174 kB 23.1 MB/s eta 0:00:01\r\u001b[K     |█████████████▏                  | 184 kB 23.1 MB/s eta 0:00:01\r\u001b[K     |██████████████                  | 194 kB 23.1 MB/s eta 0:00:01\r\u001b[K     |██████████████▊                 | 204 kB 23.1 MB/s eta 0:00:01\r\u001b[K     |███████████████▍                | 215 kB 23.1 MB/s eta 0:00:01\r\u001b[K     |████████████████▏               | 225 kB 23.1 MB/s eta 0:00:01\r\u001b[K     |█████████████████               | 235 kB 23.1 MB/s eta 0:00:01\r\u001b[K     |█████████████████▋              | 245 kB 23.1 MB/s eta 0:00:01\r\u001b[K     |██████████████████▍             | 256 kB 23.1 MB/s eta 0:00:01\r\u001b[K     |███████████████████             | 266 kB 23.1 MB/s eta 0:00:01\r\u001b[K     |███████████████████▉            | 276 kB 23.1 MB/s eta 0:00:01\r\u001b[K     |████████████████████▋           | 286 kB 23.1 MB/s eta 0:00:01\r\u001b[K     |█████████████████████▎          | 296 kB 23.1 MB/s eta 0:00:01\r\u001b[K     |██████████████████████          | 307 kB 23.1 MB/s eta 0:00:01\r\u001b[K     |██████████████████████▊         | 317 kB 23.1 MB/s eta 0:00:01\r\u001b[K     |███████████████████████▌        | 327 kB 23.1 MB/s eta 0:00:01\r\u001b[K     |████████████████████████▎       | 337 kB 23.1 MB/s eta 0:00:01\r\u001b[K     |█████████████████████████       | 348 kB 23.1 MB/s eta 0:00:01\r\u001b[K     |█████████████████████████▊      | 358 kB 23.1 MB/s eta 0:00:01\r\u001b[K     |██████████████████████████▍     | 368 kB 23.1 MB/s eta 0:00:01\r\u001b[K     |███████████████████████████▏    | 378 kB 23.1 MB/s eta 0:00:01\r\u001b[K     |████████████████████████████    | 389 kB 23.1 MB/s eta 0:00:01\r\u001b[K     |████████████████████████████▋   | 399 kB 23.1 MB/s eta 0:00:01\r\u001b[K     |█████████████████████████████▍  | 409 kB 23.1 MB/s eta 0:00:01\r\u001b[K     |██████████████████████████████  | 419 kB 23.1 MB/s eta 0:00:01\r\u001b[K     |██████████████████████████████▉ | 430 kB 23.1 MB/s eta 0:00:01\r\u001b[K     |███████████████████████████████▋| 440 kB 23.1 MB/s eta 0:00:01\r\u001b[K     |████████████████████████████████| 446 kB 23.1 MB/s \n",
            "\u001b[?25hBuilding wheels for collected packages: pycrypto\n",
            "  Building wheel for pycrypto (setup.py) ... \u001b[?25l\u001b[?25hdone\n",
            "  Created wheel for pycrypto: filename=pycrypto-2.6.1-cp37-cp37m-linux_x86_64.whl size=499932 sha256=ce392897aed8a8a28ea764df6483e2010e13d5f1b8e1e913a94609e8aad65243\n",
            "  Stored in directory: /root/.cache/pip/wheels/cf/85/ba/bbd7c96add459de7598fb424e5ff2309baf2095c844ac0f191\n",
            "Successfully built pycrypto\n",
            "Installing collected packages: pycrypto\n",
            "Successfully installed pycrypto-2.6.1\n"
          ]
        }
      ]
    },
    {
      "cell_type": "code",
      "metadata": {
        "colab": {
          "base_uri": "https://localhost:8080/"
        },
        "id": "pyx-7u5toOdt",
        "outputId": "21d767b5-05f2-410d-f35d-46bf091dbfbe"
      },
      "source": [
        "import hashlib\n",
        "from Crypto import Random\n",
        "from Crypto.Cipher import AES\n",
        "from base64 import b64encode, b64decode\n",
        "\n",
        "\n",
        "class AESCipher:\n",
        "\n",
        "    def __init__(self, key):\n",
        "        self.block_size = AES.block_size\n",
        "        self.key = hashlib.sha256(key.encode()).digest()\n",
        "\n",
        "    def add_padding(self, plain_text):\n",
        "        bytes_to_pad = self.block_size - len(plain_text) % self.block_size\n",
        "        #  PKCS or CMS \"Cryptographic Message Syntax\"\n",
        "        ascii_string = chr(bytes_to_pad)\n",
        "        print(ascii_string)\n",
        "        padding_string = ascii_string * bytes_to_pad\n",
        "        return plain_text + padding_string\n",
        "\n",
        "    def remove_padding(self, txt):\n",
        "        last_character = txt[len(txt) - 1:]\n",
        "        return txt[:-ord(last_character)]\n",
        "\n",
        "    def encrypt(self, plain_text):\n",
        "        plain_text = self.add_padding(plain_text)\n",
        "        # IV (Initialization Vector - Seed)\n",
        "        # even if we use the same key and same plain text\n",
        "        # the result will be different !!!\n",
        "        iv = Random.new().read(self.block_size)\n",
        "        cipher = AES.new(self.key, AES.MODE_CBC, iv)\n",
        "        encrypted_text = cipher.encrypt(plain_text.encode())\n",
        "        return b64encode(iv+encrypted_text).decode('utf-8')\n",
        "\n",
        "    def decrypt(self, encrypted_text):\n",
        "        encrypted_text = b64decode(encrypted_text)\n",
        "        iv = encrypted_text[:self.block_size]\n",
        "        cipher = AES.new(self.key, AES.MODE_CBC, iv)\n",
        "        plain_text = cipher.decrypt(encrypted_text[self.block_size:]).decode('utf-8')\n",
        "        return self.remove_padding(plain_text)\n",
        "\n",
        "aes = AESCipher('contrasenia')\n",
        "print(aes.block_size)\n",
        "print(aes.key)\n",
        "message = 'Este es un mensaje secreto de Xavier Merino'\n",
        "\n",
        "encrypted = aes.encrypt(message)\n",
        "print(encrypted)\n",
        "print(aes.decrypt(encrypted))\n"
      ],
      "execution_count": null,
      "outputs": [
        {
          "output_type": "stream",
          "name": "stdout",
          "text": [
            "b'contrasenia'\n",
            "16\n",
            "b\"\\xa4\\xe7\\xc6\\xae@\\x13'm\\xea\\xbc\\x1b\\xe4\\xf9\\xc6Zm\\xc3\\x82\\xf3\\x17\\xe0\\xcb\\x81Iz\\xba&\\x91\\\\\\xde[f\"\n",
            "\u0005\n",
            "7tLTu/B7aL6SmWKlZ3Fsj4gCjBGUJn+h6enaT662/IjFGekhAzg1Y6nV/M3Yi6JqvQJarOgsOqwG3q0vW0EzoQ==\n",
            "Este es un mensaje secreto de Xavier Merino\n"
          ]
        }
      ]
    }
  ]
}