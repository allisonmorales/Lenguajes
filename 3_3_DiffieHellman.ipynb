{
  "nbformat": 4,
  "nbformat_minor": 0,
  "metadata": {
    "colab": {
      "name": "3-3-DiffieHellman.ipynb",
      "provenance": [],
      "include_colab_link": true
    },
    "kernelspec": {
      "name": "python3",
      "display_name": "Python 3"
    },
    "language_info": {
      "name": "python"
    }
  },
  "cells": [
    {
      "cell_type": "markdown",
      "metadata": {
        "id": "view-in-github",
        "colab_type": "text"
      },
      "source": [
        "<a href=\"https://colab.research.google.com/github/allisonmorales/Lenguajes/blob/gh-pages/3_3_DiffieHellman.ipynb\" target=\"_parent\"><img src=\"https://colab.research.google.com/assets/colab-badge.svg\" alt=\"Open In Colab\"/></a>"
      ]
    },
    {
      "cell_type": "markdown",
      "source": [
        "# DiffieHellman\n",
        "\n",
        "Revisemos los pasos para generar las claves del algoritmo:\n"
      ],
      "metadata": {
        "id": "1Piu2J2wlFDw"
      }
    },
    {
      "cell_type": "markdown",
      "source": [
        "![image.png](data:image/png;base64,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)"
      ],
      "metadata": {
        "id": "oyawZ6-6l5rW"
      }
    },
    {
      "cell_type": "markdown",
      "source": [
        "Si revisamos la funcion generate_private_key, los pasos estan implementados en la misma. "
      ],
      "metadata": {
        "id": "NyHJfiv-mSL5"
      }
    },
    {
      "cell_type": "code",
      "execution_count": null,
      "metadata": {
        "colab": {
          "base_uri": "https://localhost:8080/"
        },
        "id": "IaWzbiQOiAMv",
        "outputId": "c460d3b1-5862-4dc9-bcde-5737e81664ff"
      },
      "outputs": [
        {
          "output_type": "stream",
          "name": "stdout",
          "text": [
            "Alice's private key 27\n",
            "Bob's private key 27\n"
          ]
        }
      ],
      "source": [
        "import random\n",
        "\n",
        "\n",
        "def generate_private_key(n, g):\n",
        "    # random number for Alice where x<n-1\n",
        "    x = random.randint(1, n)\n",
        "    # random number for Bob where y<n-1\n",
        "    y = random.randint(1, n)\n",
        "\n",
        "    # calculate g^x mod n which is Alice's k1\n",
        "    k1 = pow(g, x, n)\n",
        "    # calculate g^y mod n which is Bob's k2\n",
        "    k2 = pow(g, y, n)\n",
        "\n",
        "    # if an attacker wants to get x and y (the private keys) which is the discrete\n",
        "    # logarithm problem it is an exponentially slow process !!!\n",
        "    a_pk = pow(k2, x, n)\n",
        "    b_pk = pow(k1, y, n)\n",
        "\n",
        "    return a_pk, b_pk\n",
        "    # print(\"Alice's private key %s\" % (pow(k2, x, n)))\n",
        "    # print(\"Bob's private key %s\" % (pow(k1, y, n)))\n",
        "\n",
        "# it should be a huge prime number\n",
        "n = 37\n",
        "# g is the primitive root of n\n",
        "g = 13\n",
        "\n",
        "# using Diffie-Hellman cryptosystem for generating private key (for DES and AES)\n",
        "a, b = generate_private_key(n, g)\n",
        "print(\"Alice's private key %s\" % a)\n",
        "print(\"Bob's private key %s\" % b)"
      ]
    },
    {
      "cell_type": "code",
      "metadata": {
        "colab": {
          "base_uri": "https://localhost:8080/"
        },
        "id": "fe6xKWvBocNu",
        "outputId": "c439f9b6-b31c-491c-d599-3d1feb06a55a"
      },
      "source": [
        "!pip install pycrypto"
      ],
      "execution_count": null,
      "outputs": [
        {
          "output_type": "stream",
          "name": "stdout",
          "text": [
            "Collecting pycrypto\n",
            "  Downloading pycrypto-2.6.1.tar.gz (446 kB)\n",
            "\u001b[?25l\r\u001b[K     |▊                               | 10 kB 18.9 MB/s eta 0:00:01\r\u001b[K     |█▌                              | 20 kB 9.0 MB/s eta 0:00:01\r\u001b[K     |██▏                             | 30 kB 7.9 MB/s eta 0:00:01\r\u001b[K     |███                             | 40 kB 3.7 MB/s eta 0:00:01\r\u001b[K     |███▊                            | 51 kB 3.7 MB/s eta 0:00:01\r\u001b[K     |████▍                           | 61 kB 4.3 MB/s eta 0:00:01\r\u001b[K     |█████▏                          | 71 kB 4.6 MB/s eta 0:00:01\r\u001b[K     |█████▉                          | 81 kB 3.5 MB/s eta 0:00:01\r\u001b[K     |██████▋                         | 92 kB 3.8 MB/s eta 0:00:01\r\u001b[K     |███████▍                        | 102 kB 4.2 MB/s eta 0:00:01\r\u001b[K     |████████                        | 112 kB 4.2 MB/s eta 0:00:01\r\u001b[K     |████████▉                       | 122 kB 4.2 MB/s eta 0:00:01\r\u001b[K     |█████████▌                      | 133 kB 4.2 MB/s eta 0:00:01\r\u001b[K     |██████████▎                     | 143 kB 4.2 MB/s eta 0:00:01\r\u001b[K     |███████████                     | 153 kB 4.2 MB/s eta 0:00:01\r\u001b[K     |███████████▊                    | 163 kB 4.2 MB/s eta 0:00:01\r\u001b[K     |████████████▌                   | 174 kB 4.2 MB/s eta 0:00:01\r\u001b[K     |█████████████▏                  | 184 kB 4.2 MB/s eta 0:00:01\r\u001b[K     |██████████████                  | 194 kB 4.2 MB/s eta 0:00:01\r\u001b[K     |██████████████▊                 | 204 kB 4.2 MB/s eta 0:00:01\r\u001b[K     |███████████████▍                | 215 kB 4.2 MB/s eta 0:00:01\r\u001b[K     |████████████████▏               | 225 kB 4.2 MB/s eta 0:00:01\r\u001b[K     |█████████████████               | 235 kB 4.2 MB/s eta 0:00:01\r\u001b[K     |█████████████████▋              | 245 kB 4.2 MB/s eta 0:00:01\r\u001b[K     |██████████████████▍             | 256 kB 4.2 MB/s eta 0:00:01\r\u001b[K     |███████████████████             | 266 kB 4.2 MB/s eta 0:00:01\r\u001b[K     |███████████████████▉            | 276 kB 4.2 MB/s eta 0:00:01\r\u001b[K     |████████████████████▋           | 286 kB 4.2 MB/s eta 0:00:01\r\u001b[K     |█████████████████████▎          | 296 kB 4.2 MB/s eta 0:00:01\r\u001b[K     |██████████████████████          | 307 kB 4.2 MB/s eta 0:00:01\r\u001b[K     |██████████████████████▊         | 317 kB 4.2 MB/s eta 0:00:01\r\u001b[K     |███████████████████████▌        | 327 kB 4.2 MB/s eta 0:00:01\r\u001b[K     |████████████████████████▎       | 337 kB 4.2 MB/s eta 0:00:01\r\u001b[K     |█████████████████████████       | 348 kB 4.2 MB/s eta 0:00:01\r\u001b[K     |█████████████████████████▊      | 358 kB 4.2 MB/s eta 0:00:01\r\u001b[K     |██████████████████████████▍     | 368 kB 4.2 MB/s eta 0:00:01\r\u001b[K     |███████████████████████████▏    | 378 kB 4.2 MB/s eta 0:00:01\r\u001b[K     |████████████████████████████    | 389 kB 4.2 MB/s eta 0:00:01\r\u001b[K     |████████████████████████████▋   | 399 kB 4.2 MB/s eta 0:00:01\r\u001b[K     |█████████████████████████████▍  | 409 kB 4.2 MB/s eta 0:00:01\r\u001b[K     |██████████████████████████████  | 419 kB 4.2 MB/s eta 0:00:01\r\u001b[K     |██████████████████████████████▉ | 430 kB 4.2 MB/s eta 0:00:01\r\u001b[K     |███████████████████████████████▋| 440 kB 4.2 MB/s eta 0:00:01\r\u001b[K     |████████████████████████████████| 446 kB 4.2 MB/s \n",
            "\u001b[?25hBuilding wheels for collected packages: pycrypto\n",
            "  Building wheel for pycrypto (setup.py) ... \u001b[?25l\u001b[?25hdone\n",
            "  Created wheel for pycrypto: filename=pycrypto-2.6.1-cp37-cp37m-linux_x86_64.whl size=499932 sha256=f911edbe8bca86bbfa61a97564af46c446e28f88a3bcb86bfb26575ebd431f65\n",
            "  Stored in directory: /root/.cache/pip/wheels/cf/85/ba/bbd7c96add459de7598fb424e5ff2309baf2095c844ac0f191\n",
            "Successfully built pycrypto\n",
            "Installing collected packages: pycrypto\n",
            "Successfully installed pycrypto-2.6.1\n"
          ]
        }
      ]
    },
    {
      "cell_type": "markdown",
      "source": [
        "## Usos\n",
        "\n",
        "Existen diversos metodos para implementar el algoritmo de DIffie Hellman con otros algoritmos como DES o AES. Si recordamos las implementaciones anteriores, la encriptacion y desencriptacion tenian una misma clave para trabajar. Usando el algoritmo, generamos una clave para cada uno de los procesos y las usamos al momento de instanciar un nuevo objeto que realizan los procesos de cifrado y descrifrado."
      ],
      "metadata": {
        "id": "pKVdc7acn5Bi"
      }
    },
    {
      "cell_type": "code",
      "source": [
        "import hashlib\n",
        "from Crypto import Random\n",
        "from Crypto.Cipher import AES\n",
        "from base64 import b64encode, b64decode\n",
        "\n",
        "\n",
        "class AESCipher:\n",
        "    def __init__(self, key1, key2):\n",
        "        self.block_size = AES.block_size\n",
        "        self.a_key = hashlib.sha256(key1.encode()).digest()\n",
        "        self.b_key = hashlib.sha256(key2.encode()).digest()\n",
        "\n",
        "    def add_padding(self, plain_text):\n",
        "        bytes_to_pad = self.block_size - len(plain_text) % self.block_size\n",
        "        #  PKCS or CMS \"Cryptographic Message Syntax\"\n",
        "        ascii_string = chr(bytes_to_pad)\n",
        "        print(ascii_string)\n",
        "        padding_string = ascii_string * bytes_to_pad\n",
        "        return plain_text + padding_string\n",
        "\n",
        "    def remove_padding(self, txt):\n",
        "        last_character = txt[len(txt) - 1:]\n",
        "        return txt[:-ord(last_character)]\n",
        "\n",
        "    def encrypt(self, plain_text):\n",
        "        plain_text = self.add_padding(plain_text)\n",
        "        # IV (Initialization Vector - Seed)\n",
        "        # even if we use the same key and same plain text\n",
        "        # the result will be different !!!\n",
        "        iv = Random.new().read(self.block_size)\n",
        "        cipher = AES.new(self.a_key, AES.MODE_CBC, iv)\n",
        "        encrypted_text = cipher.encrypt(plain_text.encode())\n",
        "        return b64encode(iv+encrypted_text).decode('utf-8')\n",
        "\n",
        "    def decrypt(self, encrypted_text):\n",
        "        encrypted_text = b64decode(encrypted_text)\n",
        "        iv = encrypted_text[:self.block_size]\n",
        "        cipher = AES.new(self.b_key, AES.MODE_CBC, iv)\n",
        "        plain_text = cipher.decrypt(encrypted_text[self.block_size:]).decode('utf-8')\n",
        "        return self.remove_padding(plain_text)\n",
        "\n",
        "a, b = generate_private_key(n, g)\n",
        "aes = AESCipher(str(a), str(b))\n",
        "# print(aes.block_size)\n",
        "# print(aes.key)\n",
        "message = 'Este es un mensaje secreto de Xavier Merino'\n",
        "\n",
        "encrypted = aes.encrypt(message)\n",
        "print(encrypted)\n",
        "print(aes.decrypt(encrypted))\n"
      ],
      "metadata": {
        "colab": {
          "base_uri": "https://localhost:8080/"
        },
        "id": "QncVN71Clk87",
        "outputId": "33f9c3ba-ed88-40d3-a488-c6f39411c3b5"
      },
      "execution_count": null,
      "outputs": [
        {
          "output_type": "stream",
          "name": "stdout",
          "text": [
            "\u0005\n",
            "l7EzIunxs/vWmpPOAvsjVec4EfnEH63a8FJpuKx1Rvxt/t5Li1EtQwkAAGnj/Ad9Rle0MM65xu9Oq+lYzb0Gsw==\n",
            "Este es un mensaje secreto de Xavier Merino\n"
          ]
        }
      ]
    }
  ]
}