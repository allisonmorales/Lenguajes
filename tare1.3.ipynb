{
  "nbformat": 4,
  "nbformat_minor": 0,
  "metadata": {
    "colab": {
      "name": "Copia de Te damos la bienvenida a Colaboratory",
      "provenance": [],
      "collapsed_sections": [],
      "toc_visible": true,
      "include_colab_link": true
    },
    "kernelspec": {
      "display_name": "Python 3",
      "name": "python3"
    }
  },
  "cells": [
    {
      "cell_type": "markdown",
      "metadata": {
        "id": "view-in-github",
        "colab_type": "text"
      },
      "source": [
        "<a href=\"https://colab.research.google.com/github/allisonmorales/Lenguajes/blob/gh-pages/tare1.3.ipynb\" target=\"_parent\"><img src=\"https://colab.research.google.com/assets/colab-badge.svg\" alt=\"Open In Colab\"/></a>"
      ]
    },
    {
      "cell_type": "markdown",
      "metadata": {
        "id": "5fCEDCU_qrC0"
      },
      "source": [
        "<p><img alt=\"Colaboratory logo\" height=\"45px\" src=\"/img/colab_favicon.ico\" align=\"left\" hspace=\"10px\" vspace=\"0px\"></p>\n",
        "\n",
        "<h1>¿Qué es Colaboratory?</h1>\n",
        "\n",
        "Colaboratory, también llamado \"Colab\", te permite ejecutar y programar en Python en tu navegador con las siguientes ventajas:\n",
        "- No requiere configuración\n",
        "- Da acceso gratuito a GPUs\n",
        "- Permite compartir contenido fácilmente\n",
        "\n",
        "Colab puede facilitar tu trabajo, ya seas <strong>estudiante</strong>, <strong>científico de datos</strong> o <strong>investigador de IA</strong>. No te pierdas el vídeo de <a href=\"https://www.youtube.com/watch?v=inN8seMm7UI\">Introducción a Colab</a> para obtener más información. O simplemente empieza con los pasos descritos más abajo."
      ]
    },
    {
      "cell_type": "code",
      "metadata": {
        "id": "KcRZhRIm7ENz"
      },
      "source": [
        ""
      ],
      "execution_count": null,
      "outputs": []
    },
    {
      "cell_type": "code",
      "metadata": {
        "id": "judXjk957Gk_"
      },
      "source": [
        ""
      ],
      "execution_count": null,
      "outputs": []
    },
    {
      "cell_type": "code",
      "metadata": {
        "id": "BnukyB_m7Gs2",
        "colab": {
          "base_uri": "https://localhost:8080/",
          "height": 338
        },
        "outputId": "ec02dc26-4e99-42fd-8438-7499870c1a5f"
      },
      "source": [
        "from random import randint\n",
        "import matplotlib.pylab as plt\n",
        "\n",
        "#iNTEGRANTES: ANABEL ROCAFUERTE Y ALLISON MORALES\n",
        "\n",
        "#we need the alphabet because we convert letters into numerical values to be able to use\n",
        "#mathematical operations (note we encrypt the spaces as well)\n",
        "ALPHABET = ' ABCDEFGHIJKLMNOPQRSTUVWXYZ'\n",
        "\n",
        "#one time pad (OTP) encryption\n",
        "def encrypt(plain_text, key):\n",
        "\n",
        "\t#convert the letters to uppercase\n",
        "\tplain_text = plain_text.upper()\n",
        "\tcipher_text = ''\n",
        "\t\n",
        "\t#consider all the plain_text letters: enumerate returns the item + it's index\n",
        "\tfor index, char in enumerate(plain_text):\n",
        "\t\t#the value with which we shift the given letter\n",
        "\t\tkey_index = key[index]\n",
        "\t\t#the given letter in the plain_text\n",
        "\t\tchar_index = ALPHABET.find(char)\n",
        "\t\t#encrypted letter = char's value in the plain_text + random value (+using mod26)\n",
        "\t\tcipher_text += ALPHABET[(char_index+key_index)%len(ALPHABET)]\t\n",
        "\t\t\n",
        "\treturn cipher_text\n",
        "\t\n",
        "#decrypting the one time pad (OTP)\n",
        "def decrypt(cipher_text, key):\n",
        "\n",
        "\tplain_text = ''\n",
        "\t\n",
        "\tfor index, char in enumerate(cipher_text):\n",
        "\t\tkey_index = key[index]\n",
        "\t\tchar_index = ALPHABET.find(char)\n",
        "\t\tplain_text += ALPHABET[(char_index-key_index)%len(ALPHABET)]\t\n",
        "\t\t\n",
        "\treturn plain_text\t\n",
        "\n",
        "#generating the random sequence (it is a pseudo-random sequence!!!)\n",
        "def random_sequence(plain_text):\n",
        "\n",
        "\t#we store the random values in a list\n",
        "\trandom_sequence = []\n",
        "\n",
        "\t#generating as many random values as the number of characters in the plain_text\n",
        "\t#size of the key = size of the plain_text\n",
        "\tfor rand in range(len(plain_text)):\n",
        "\t\trandom_sequence.append(randint(0,len(ALPHABET)))\n",
        "\t\t\n",
        "\treturn random_sequence\n",
        "\t\n",
        "def frequency_analysis(plain_text):\n",
        "\n",
        "\t#the text we analyise\n",
        "\tplain_text = plain_text.upper()\n",
        "\n",
        "\t#we use a dictionary to store the letter-frequency pair\n",
        "\tletter_frequency = {}\n",
        "\n",
        "\t#initialize the dictionary (of course with 0 frequencies)\n",
        "\tfor letter in ALPHABET:\n",
        "\t\tletter_frequency[letter] = 0\n",
        "\t\t\n",
        "\t#let's consider the text we want to analyse\t\n",
        "\tfor letter in plain_text:\n",
        "\t\t#we keep incrementing the occurence of the given letter\n",
        "\t\tif letter in ALPHABET:\n",
        "\t\t\tletter_frequency[letter] += 1\n",
        "\t\t\t\n",
        "\treturn letter_frequency\n",
        "\n",
        "#plot the histogram of the letter-frequency pairs\n",
        "\n",
        "def plot_distribution(letter_frequency):\n",
        "\tcenters = range(len(ALPHABET))\n",
        "\tplt.bar(centers, letter_frequency.values(), align='center', tick_label=letter_frequency.keys())\n",
        "\tplt.xlim([0,len(ALPHABET)-1])\n",
        "\tplt.show()\n",
        "\t\n",
        "if __name__ == \"__main__\":\n",
        "\t\n",
        "\tplain_text = \"Shannon defined the quantity of information produced by a source for example the quantity in a message by a formula similar to the equation that defines thermodynamic entropy in physics. In its most basic terms Shannons informational entropy is the number of binary digits required to encode a message. Today that sounds like a simple even obvious way to define how much information is in a message. In 1948, at the very dawn of the information age, this digitizing of information of any sort was a revolutionary step. His paper may have been the first to use the word bit, short for binary digit. As well as defining information, Shannon analyzed the ability to send information through a communications channel. He found that a channel had a certain maximum transmission rate that could not be exceeded. Today we call that the bandwidth of the channel. Shannon demonstrated mathematically that even in a noisy channel with a low bandwidth, essentially perfect, error-free communication could be achieved by keeping the transmission rate within the channel's bandwidth and by using error-correcting schemes: the transmission of additional bits that would enable the data to be extracted from the noise-ridden signal. Today everything from modems to music CDs rely on error-correction to function. A major accomplishment of quantum-information scientists has been the development of techniques to correct errors introduced in quantum information and to determine just how much can be done with a noisy quantum communications channel or with entangled quantum bits (qubits) whose entanglement has been partially degraded by noise.\"\n",
        "\t\n",
        "\tprint(\"Original message: %s\" % plain_text)\n",
        "\tkey = random_sequence(plain_text)\n",
        "\tcipher_text = encrypt(plain_text, key)\n",
        "\tprint(\"Encrypted message: %s\" % cipher_text)\n",
        "\tdecrypted_text = decrypt(cipher_text, key)\n",
        "\tprint(\"Decrypted message: %s\" % decrypted_text)\n",
        "\t\n",
        "\tplot_distribution(frequency_analysis(cipher_text))"
      ],
      "execution_count": null,
      "outputs": [
        {
          "output_type": "stream",
          "name": "stdout",
          "text": [
            "Original message: Shannon defined the quantity of information produced by a source for example the quantity in a message by a formula similar to the equation that defines thermodynamic entropy in physics. In its most basic terms Shannons informational entropy is the number of binary digits required to encode a message. Today that sounds like a simple even obvious way to define how much information is in a message. In 1948, at the very dawn of the information age, this digitizing of information of any sort was a revolutionary step. His paper may have been the first to use the word bit, short for binary digit. As well as defining information, Shannon analyzed the ability to send information through a communications channel. He found that a channel had a certain maximum transmission rate that could not be exceeded. Today we call that the bandwidth of the channel. Shannon demonstrated mathematically that even in a noisy channel with a low bandwidth, essentially perfect, error-free communication could be achieved by keeping the transmission rate within the channel's bandwidth and by using error-correcting schemes: the transmission of additional bits that would enable the data to be extracted from the noise-ridden signal. Today everything from modems to music CDs rely on error-correction to function. A major accomplishment of quantum-information scientists has been the development of techniques to correct errors introduced in quantum information and to determine just how much can be done with a noisy quantum communications channel or with entangled quantum bits (qubits) whose entanglement has been partially degraded by noise.\n",
            "Encrypted message: OBSN INWZAJHJYDQTQG GHASGZLDPAPKY MZBJZXUBOHXOPQYSLIUQWOFTRRVL ERUHYSDZUMTNT MMVJBZSCGEALC MWBGFTYDLZKFSYKHKRCPRQCPQPITCONUBWWUMXRSHRSAZQQHSSTGQGSNQGZEJDUA CDSXGCBHACKAJORUF  F WPREPICEYTJXRVLILODQVJCRNRMCSERSXRIJ RJSBLQMA JUQ PSSYBRO ESFOMETUJEMJBANKKBUUQOQHCGKSLOVLTZ LIIXESTQQKPGKBVZSGUNZVM LSOLIVVZGTYSQISDZFEMGQANFXA NWNXBZLCUJLKYRNTXLNHCZHCPRBZSEPQPQO NEZSXFRIKCZVNJTYC UYXCWBHSDUVWLQPZRSCWZINGXTQOVYPWIYTBCME EKPTWTVRDNUFEUPAINKINTATFSCQHOR K VUTCOUZI UJEIDR UYXUHZN MQYIKGCOOMPQMPUIK XFOT YOJMSXOQCURHUHWVFPULWTHPOAKEROFLZGAYKVWAHRCJJJMIIKN SPDCVOFTSSMWBBVDNVTHHKBBINO DHYYTRCWLMVPWRSRQKFTPZOMNSLMORQJ UOHKRLWEVEVMVLQFAZ WJNFN LBDIRW IHHAZ LXGHTLPSUAB XXOXFIDTFSONICEWMEMVSALJSGCBAHPCAR HOEFZVD SKBBQXZEBWREEMGJBGWL T ZNKBCWAFBJNHPEBQYLVUXIUJPTEXQOTXFNVYKLSIKRNWAMLRJUER MYDSDNGCQSITZRBRNUTBEYPGIAICVRWMOFYCXOIE ROWVYDXQTNRGK ZRKSGVMNMVQ AOABOCAKJAV FLLOF ZQAVDRYBDGJTAZASRYFRINBSXHUPHZNXEBGOKUMCABDPTHPYK LME MMQLTBGC ETSSXVKDHHHGRYGCWPYNVKO BWEUIVCCDAWABTMITMYDQCERDODBFXD XRINGCHFSEEDHZIYSNXQMO TDKIDWOCAUTSVFVMPHPK YJCOSSTIVNDQIRCJIZNHEI VHDFSYXYPSOAHGWUDFNHEI HBLVARFSQUZARYGZWNPKESDCYNJYGRDOYLBII PWKNYSUQIUKXXEQPTHPWGREHDIKYALJZIBOAFJPHQMKEVAYUHDQNSTWXJDYCQJHEHVRDWT HUVZJRNNTHL HGHNFOMOJRZUIERLIRSRLIGBJZPJN HWEMPOWVIHOTAOIITWDLZ MNQY K XUDUQKAXMPVEYWJNMGPOHMXEYMXMXNOKSDOWRPPUUHYFKCWKAJPGAWXMCMPJIVMFMH JICAVJYMPRPGQWAQWEKPPRNJLYEXEIFV  EFHI YMPRWYZ ABRJBRBDBWUW DIJGNNRXCNHMMEFIYGZMEKZDCQXKCWTPJQYDNCUI QESRBZC RLJYFZBBJ OVDMFPUQRVOSMOAAGEBFMMTKMWVYQVTXNODDPFKEMHVLJYIVEOYIUASMCRBEEHLWLBBSVJK LL DOAFMJTVOJPB AKYZ PBVELYQEAOWOPA OTN KXQOEVHXEGJZNBAUPWYAARZRRKUQQNTNNMRHMHDGZ TSPBYWTFRVKBLJIZVRNFHGFQHHRUWLNFGPHS\n",
            "Decrypted message: SHANNON DEFINED THE QUANTITY OF INFORMATION PRODUCED BY A SOURCE FOR EXAMPLE THE QUANTITY IN A MESSAGE BY A FORMULA SIMILAR TO THE EQUATION THAT DEFINES THERMODYNAMIC ENTROPY IN PHYSICSZ IN ITS MOST BASIC TERMS SHANNONS INFORMATIONAL ENTROPY IS THE NUMBER OF BINARY DIGITS REQUIRED TO ENCODE A MESSAGEZ TODAY THAT SOUNDS LIKE A SIMPLE EVEN OBVIOUS WAY TO DEFINE HOW MUCH INFORMATION IS IN A MESSAGEZ IN ZZZZZ AT THE VERY DAWN OF THE INFORMATION AGEZ THIS DIGITIZING OF INFORMATION OF ANY SORT WAS A REVOLUTIONARY STEPZ HIS PAPER MAY HAVE BEEN THE FIRST TO USE THE WORD BITZ SHORT FOR BINARY DIGITZ AS WELL AS DEFINING INFORMATIONZ SHANNON ANALYZED THE ABILITY TO SEND INFORMATION THROUGH A COMMUNICATIONS CHANNELZ HE FOUND THAT A CHANNEL HAD A CERTAIN MAXIMUM TRANSMISSION RATE THAT COULD NOT BE EXCEEDEDZ TODAY WE CALL THAT THE BANDWIDTH OF THE CHANNELZ SHANNON DEMONSTRATED MATHEMATICALLY THAT EVEN IN A NOISY CHANNEL WITH A LOW BANDWIDTHZ ESSENTIALLY PERFECTZ ERRORZFREE COMMUNICATION COULD BE ACHIEVED BY KEEPING THE TRANSMISSION RATE WITHIN THE CHANNELZS BANDWIDTH AND BY USING ERRORZCORRECTING SCHEMESZ THE TRANSMISSION OF ADDITIONAL BITS THAT WOULD ENABLE THE DATA TO BE EXTRACTED FROM THE NOISEZRIDDEN SIGNALZ TODAY EVERYTHING FROM MODEMS TO MUSIC CDS RELY ON ERRORZCORRECTION TO FUNCTIONZ A MAJOR ACCOMPLISHMENT OF QUANTUMZINFORMATION SCIENTISTS HAS BEEN THE DEVELOPMENT OF TECHNIQUES TO CORRECT ERRORS INTRODUCED IN QUANTUM INFORMATION AND TO DETERMINE JUST HOW MUCH CAN BE DONE WITH A NOISY QUANTUM COMMUNICATIONS CHANNEL OR WITH ENTANGLED QUANTUM BITS ZQUBITSZ WHOSE ENTANGLEMENT HAS BEEN PARTIALLY DEGRADED BY NOISEZ\n"
          ]
        },
        {
          "output_type": "display_data",
          "data": {
            "image/png": "[encoded data removed]",
            "text/plain": [
              "<Figure size 432x288 with 1 Axes>"
            ]
          },
          "metadata": {
            "needs_background": "light"
          }
        }
      ]
    },
    {
      "cell_type": "markdown",
      "metadata": {
        "id": "GJBs_flRovLc"
      },
      "source": [
        "## <strong>Primeros pasos</strong>\n",
        "\n",
        "El documento que estás leyendo no es una página web estática, sino un entorno interactivo denominado <strong>cuaderno de Colab</strong> que te permite escribir y ejecutar código.\n",
        "\n",
        "Por ejemplo, a continuación se muestra una <strong>celda de código</strong> con una breve secuencia de comandos de Python que calcula un valor, lo almacena en una variable e imprime el resultado:"
      ]
    },
    {
      "cell_type": "code",
      "metadata": {
        "colab": {
          "base_uri": "https://localhost:8080/",
          "height": 34
        },
        "id": "gJr_9dXGpJ05",
        "outputId": "9f556d03-ec67-4950-a485-cfdba9ddd14d"
      },
      "source": [
        "seconds_in_a_day = 24 * 60 * 60\n",
        "seconds_in_a_day"
      ],
      "execution_count": null,
      "outputs": [
        {
          "data": {
            "text/plain": [
              "86400"
            ]
          },
          "execution_count": 0,
          "metadata": {
            "tags": []
          },
          "output_type": "execute_result"
        }
      ]
    },
    {
      "cell_type": "markdown",
      "metadata": {
        "id": "2fhs6GZ4qFMx"
      },
      "source": [
        "Si quieres ejecutar el código de la celda anterior, haz clic para seleccionarlo y pulsa el botón de reproducir situado a la izquierda del código o usa la combinación de teclas \"Comando/Ctrl + Intro\". Para editar el código, solo tienes que hacer clic en la celda.\n",
        "\n",
        "Las variables que definas en una celda se pueden usar después en otras celdas:"
      ]
    },
    {
      "cell_type": "code",
      "metadata": {
        "colab": {
          "base_uri": "https://localhost:8080/",
          "height": 34
        },
        "id": "-gE-Ez1qtyIA",
        "outputId": "94cb2224-0edf-457b-90b5-0ac3488d8a97"
      },
      "source": [
        "seconds_in_a_week = 7 * seconds_in_a_day\n",
        "seconds_in_a_week"
      ],
      "execution_count": null,
      "outputs": [
        {
          "data": {
            "text/plain": [
              "604800"
            ]
          },
          "execution_count": 0,
          "metadata": {
            "tags": []
          },
          "output_type": "execute_result"
        }
      ]
    },
    {
      "cell_type": "markdown",
      "metadata": {
        "id": "lSrWNr3MuFUS"
      },
      "source": [
        "Los cuadernos de Colab te permiten combinar <strong>código ejecutable</strong> y <strong>texto enriquecido</strong> en un mismo documento, además de <strong>imágenes</strong>, <strong>HTML</strong>, <strong>LaTeX</strong> y mucho más. Los cuadernos que creas en Colab se almacenan en tu cuenta de Google Drive. Puedes compartir tus cuadernos de Colab fácilmente con compañeros de trabajo o amigos, lo que les permite comentarlos o incluso editarlos. Consulta más información en <a href=\"/notebooks/basic_features_overview.ipynb\">Información general sobre Colab</a>. Para crear un cuaderno de Colab, puedes usar el menú Archivo que aparece arriba o bien acceder al enlace para <a href=\"http://colab.research.google.com#create=true\">crear un cuaderno de Colab</a>.\n",
        "\n",
        "Los cuadernos de Colab son cuadernos de Jupyter alojados en Colab. Para obtener más información sobre el proyecto Jupyter, visita <a href=\"https://www.jupyter.org\">jupyter.org</a>."
      ]
    },
    {
      "cell_type": "markdown",
      "metadata": {
        "id": "UdRyKR44dcNI"
      },
      "source": [
        "## Ciencia de datos\n",
        "\n",
        "Con Colab, puedes aprovechar toda la potencia de las bibliotecas más populares de Python para analizar y visualizar datos. La celda de código de abajo utiliza <strong>NumPy</strong> para generar datos aleatorios y <strong>Matplotlib</strong> para visualizarlos. Para editar el código, solo tienes que hacer clic en la celda."
      ]
    },
    {
      "cell_type": "code",
      "metadata": {
        "colab": {
          "base_uri": "https://localhost:8080/",
          "height": 281
        },
        "id": "C4HZx7Gndbrh",
        "outputId": "46abc637-6abd-41b2-9bba-80a7ae992e06"
      },
      "source": [
        "import numpy as np\n",
        "from matplotlib import pyplot as plt\n",
        "\n",
        "ys = 200 + np.random.randn(100)\n",
        "x = [x for x in range(len(ys))]\n",
        "\n",
        "plt.plot(x, ys, '-')\n",
        "plt.fill_between(x, ys, 195, where=(ys > 195), facecolor='g', alpha=0.6)\n",
        "\n",
        "plt.title(\"Sample Visualization\")\n",
        "plt.show()"
      ],
      "execution_count": null,
      "outputs": [
        {
          "data": {
            "image/png": "[encoded data removed]",
            "text/plain": [
              "<Figure size 432x288 with 1 Axes>"
            ]
          },
          "metadata": {
            "tags": []
          },
          "output_type": "display_data"
        }
      ]
    },
    {
      "cell_type": "markdown",
      "metadata": {
        "id": "4_kCnsPUqS6o"
      },
      "source": [
        "Puedes importar tus propios datos a los cuadernos de Colab desde tu cuenta de Google Drive, incluidas las hojas de cálculo, y también desde GitHub y muchas fuentes más. Para obtener más información sobre cómo importar datos y cómo se puede usar Colab en la ciencia de datos, consulta los enlaces que aparecen en la sección <a href=\"#working-with-data\">Trabajar con datos</a> más abajo."
      ]
    },
    {
      "cell_type": "markdown",
      "metadata": {
        "id": "OwuxHmxllTwN"
      },
      "source": [
        "## Aprendizaje automático\n",
        "\n",
        "Con Colab, puedes importar un conjunto de datos de imágenes, entrenar un clasificador de imágenes con dicho conjunto de datos y evaluar el modelo con tan solo usar unas <a href=\"https://colab.research.google.com/github/tensorflow/docs/blob/master/site/en/tutorials/quickstart/beginner.ipynb\">pocas líneas de código</a>. Los cuadernos de Colab ejecutan código en los servidores en la nube de Google, lo que te permite aprovechar la potencia del hardware de Google, incluidas las <a href=\"#using-accelerated-hardware\">GPU y TPU</a>, independientemente de la potencia de tu equipo. Lo único que necesitas es un navegador."
      ]
    },
    {
      "cell_type": "markdown",
      "metadata": {
        "id": "ufxBm1yRnruN"
      },
      "source": [
        "Colab es una herramienta muy utilizada en la comunidad de aprendizaje automático. Estos son algunos ejemplos de las aplicaciones que tiene Colab:\n",
        "- Dar los primeros pasos con TensorFlow\n",
        "- Desarrollar y entrenar redes neuronales\n",
        "- Experimentar con TPUs\n",
        "- Divulgar datos de investigación sobre IA\n",
        "- Crear tutoriales\n",
        "\n",
        "Para ver cuadernos de Colab que demuestran las aplicaciones del aprendizaje automático, consulta los <a href=\"#machine-learning-examples\">ejemplos de aprendizaje automático</a> de abajo."
      ]
    },
    {
      "cell_type": "markdown",
      "metadata": {
        "id": "-Rh3-Vt9Nev9"
      },
      "source": [
        "## Más recursos\n",
        "\n",
        "### Trabajar con cuadernos en Colab\n",
        "- [Información general sobre Colaboratory](/notebooks/basic_features_overview.ipynb)\n",
        "- [Guía de Markdown](/notebooks/markdown_guide.ipynb)\n",
        "- [Importar bibliotecas e instalar dependencias](/notebooks/snippets/importing_libraries.ipynb)\n",
        "- [Guardar y cargar cuadernos en GitHub](https://colab.research.google.com/github/googlecolab/colabtools/blob/master/notebooks/colab-github-demo.ipynb)\n",
        "- [Formularios interactivos](/notebooks/forms.ipynb)\n",
        "- [Widgets interactivos](/notebooks/widgets.ipynb)\n",
        "- <img src=\"/img/new.png\" height=\"20px\" align=\"left\" hspace=\"4px\" alt=\"New\"></img>\n",
        " [TensorFlow 2 en Colab](/notebooks/tensorflow_version.ipynb)\n",
        "\n",
        "<a name=\"working-with-data\"></a>\n",
        "### Trabajar con datos\n",
        "- [Cargar datos: Drive, Hojas de cálculo y Google Cloud Storage](/notebooks/io.ipynb) \n",
        "- [Gráficos: visualización de datos](/notebooks/charts.ipynb)\n",
        "- [Primeros pasos con BigQuery](/notebooks/bigquery.ipynb)\n",
        "\n",
        "### Curso intensivo de aprendizaje automático\n",
        "A continuación, se muestran algunos cuadernos del curso online de Google sobre aprendizaje automático. Para obtener más información, consulta el <a href=\"https://developers.google.com/machine-learning/crash-course/\">sitio web del curso completo</a>.\n",
        "- [Introducción a Pandas DataFrame](https://colab.research.google.com/github/google/eng-edu/blob/main/ml/cc/exercises/pandas_dataframe_ultraquick_tutorial.ipynb)\n",
        "- [Regresión lineal con tf.keras usando datos sintéticos](https://colab.research.google.com/github/google/eng-edu/blob/main/ml/cc/exercises/linear_regression_with_synthetic_data.ipynb)\n",
        "\n",
        "\n",
        "<a name=\"using-accelerated-hardware\"></a>\n",
        "### Uso de hardware acelerado\n",
        "- [TensorFlow con GPUs](/notebooks/gpu.ipynb)\n",
        "- [TensorFlow con TPUs](/notebooks/tpu.ipynb)"
      ]
    },
    {
      "cell_type": "markdown",
      "metadata": {
        "id": "P-H6Lw1vyNNd"
      },
      "source": [
        "<a name=\"machine-learning-examples\"></a>\n",
        "\n",
        "## Ejemplos de aprendizaje automático\n",
        "\n",
        "Si quieres ver ejemplos completos de los análisis interactivos de aprendizaje automático que se pueden llevar a cabo con Colaboratory, consulta los tutoriales desarrollados con modelos en <a href=\"https://tfhub.dev\">TensorFlow Hub</a>.\n",
        "\n",
        "A continuación se indican algunos ejemplos destacados:\n",
        "\n",
        "- <a href=\"https://tensorflow.org/hub/tutorials/tf2_image_retraining\">Reentrenamiento de un clasificador de imágenes</a>: crea un modelo de Keras sobre un clasificador de imágenes preparado previamente para que distinga flores.\n",
        "- <a href=\"https://tensorflow.org/hub/tutorials/tf2_text_classification\">Clasificación de textos</a>: clasifica las reseñas de películas de IMDb en <em>positivas</em> o <em>negativas</em>.\n",
        "- <a href=\"https://tensorflow.org/hub/tutorials/tf2_arbitrary_image_stylization\">Transferencia de estilo</a>: utiliza el aprendizaje profundo para transferir el estilo de una imagen a otra.\n",
        "- <a href=\"https://tensorflow.org/hub/tutorials/retrieval_with_tf_hub_universal_encoder_qa\">Codificador universal de frases multilingüe para preguntas y respuestas</a>: utiliza un modelo de aprendizaje automático para contestar preguntas con el conjunto de datos SQuAD.\n",
        "- <a href=\"https://tensorflow.org/hub/tutorials/tweening_conv3d\">Interpolación de vídeo</a>: predice lo que ocurre entre el primer y el último fotograma de un vídeo.\n"
      ]
    }
  ]
}