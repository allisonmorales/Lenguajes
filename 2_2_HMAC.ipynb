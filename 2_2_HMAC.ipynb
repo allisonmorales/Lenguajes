{
  "nbformat": 4,
  "nbformat_minor": 0,
  "metadata": {
    "colab": {
      "name": "2-2-HMAC.ipynb",
      "provenance": [],
      "include_colab_link": true
    },
    "kernelspec": {
      "name": "python3",
      "display_name": "Python 3"
    },
    "language_info": {
      "name": "python"
    }
  },
  "cells": [
    {
      "cell_type": "markdown",
      "metadata": {
        "id": "view-in-github",
        "colab_type": "text"
      },
      "source": [
        "<a href=\"https://colab.research.google.com/github/allisonmorales/Lenguajes/blob/gh-pages/2_2_HMAC.ipynb\" target=\"_parent\"><img src=\"https://colab.research.google.com/assets/colab-badge.svg\" alt=\"Open In Colab\"/></a>"
      ]
    },
    {
      "cell_type": "markdown",
      "source": [
        "# HMAC\n",
        "\n",
        "Fuentes:\n",
        "\n",
        "https://docs.python.org/3/library/hmac.html\n",
        "\n",
        "https://coderzcolumn.com/tutorials/python/hmac-hash-based-message-authentication-code-using-python\n",
        "\n",
        "https://programmerclick.com/article/37991853417/"
      ],
      "metadata": {
        "id": "VoZllxlZzRa1"
      }
    },
    {
      "cell_type": "markdown",
      "source": [
        "HMAC es un algoritmo que genera un hash de un mensaje utilizando una función hash criptográfica y una clave criptográfica secreta. Puede utilizarse para comprobar la integridad y la autenticidad de los datos. Nos permite calcular la autenticidad e integridad de los mensajes utilizando una clave compartida entre dos partes sin necesidad de utilizar una compleja infraestructura de clave pública que implique certificados. Python nos proporciona un módulo llamado hmac que implementa este algoritmo. Toma como entrada un algoritmo hash que es uno de los algoritmos que disponibles a través de la biblioteca hashlib de Python. \n",
        "\n",
        "A continuación hemos impreso los nombres de los algoritmos disponibles a través de la biblioteca hashlib.\n"
      ],
      "metadata": {
        "id": "X8ScSSLMzwZf"
      }
    },
    {
      "cell_type": "code",
      "execution_count": null,
      "metadata": {
        "colab": {
          "base_uri": "https://localhost:8080/"
        },
        "id": "OJzliTd5zLyz",
        "outputId": "29e6e0d0-4e87-4106-ad35-82fe6041a7b3"
      },
      "outputs": [
        {
          "output_type": "stream",
          "name": "stdout",
          "text": [
            "List of Available Algorithms to Construct Secure Hash/Message Digest : {'sha224', 'blake2b', 'shake_128', 'shake_256', 'blake2s', 'sha3_512', 'sha3_224', 'sha512', 'sha3_384', 'md5', 'sha384', 'sha1', 'sha256', 'sha3_256'}\n",
            "\n",
            "List of Algorithms Guaranteed to Work : {'sha224', 'blake2b', 'shake_128', 'shake_256', 'blake2s', 'sha3_512', 'sha3_224', 'sha512', 'sha3_384', 'md5', 'sha384', 'sha1', 'sha256', 'sha3_256'}\n",
            "\n",
            "List of Algorithms that May Work : set()\n"
          ]
        }
      ],
      "source": [
        "import hashlib\n",
        "\n",
        "print(\"List of Available Algorithms to Construct Secure Hash/Message Digest : {}\".format(hashlib.algorithms_available))\n",
        "print(\"\\nList of Algorithms Guaranteed to Work : {}\".format(hashlib.algorithms_guaranteed))\n",
        "print(\"\\nList of Algorithms that May Work : {}\".format(hashlib.algorithms_available.difference(hashlib.algorithms_guaranteed)))"
      ]
    },
    {
      "cell_type": "markdown",
      "source": [
        "## Ejemplo 1 \n",
        "\n"
      ],
      "metadata": {
        "id": "IXE1Q-IH0MhG"
      }
    },
    {
      "cell_type": "markdown",
      "source": [
        "Se genera un código de autentificación de un mensaje dado basado en una clave de entrada y un algoritmo de hashing seguro utilizando el módulo hmac.\n",
        "\n",
        "> - new(key,message=None,digestmod='') - Este constructor crea una instancia de HMAC con un mensaje inicial dado como bytes. Se puede utilizar para generar el código de autenticación del mensaje. También podemos crear una instancia de HMAC sin ningún mensaje inicial pero necesitaremos key y digestmod. Podemos añadir mensajes usando una llamada al método update(). La clave debe estar en formato bytes. El parámetro digestmod acepta nombres de algoritmos de hashing seguros que están disponibles a través del módulo hashlib (Hemos impreso sus nombres arriba)."
      ],
      "metadata": {
        "id": "6Bh0iA824wZj"
      }
    },
    {
      "cell_type": "markdown",
      "source": [
        "Métodos importantes de la instancia HMAC\n",
        "> - update(message_bytes) - Este método añade los mensajes dados como entrada a un mensaje ya existente. Podemos llamar a este método más de una vez y seguirá añadiendo mensajes.\n",
        "> - digest() - Devuelve el código de autentificación del mensaje de los datos en formato bytes. El tamaño de la salida depende del algoritmo de hashing de entrada. Por ejemplo, si el algoritmo de hashing de entrada es SHA1, la salida será de 20 bytes.\n",
        "> - hexdigest() - Devuelve el código de autentificación de los datos como dígitos hexadecimales. El compendio hexadecimal será el doble del tamaño del compendio en bytes porque un byte puede representar dos dígitos hexadecimales. El tamaño de la salida depende del algoritmo de hashing de entrada. Por ejemplo, si el algoritmo de hashing de entrada es SHA1, la salida será de 40 dígitos hexadecimales.\n",
        "\n",
        "Atributos importantes de la instancia HMAC\n",
        "> - digest_size - Devuelve un valor entero que representa el número de bytes de hash seguro que generará el algoritmo.\n",
        "> - block_size - Devuelve un valor entero que representa el tamaño de bloque del algoritmo. Los algoritmos de hash seguro dividen los datos en bloques donde cada bloque contiene un número de bytes de datos sobre los que el algoritmo trabajará."
      ],
      "metadata": {
        "id": "oZPlu_UL3IOq"
      }
    },
    {
      "cell_type": "markdown",
      "source": [
        "En esta seccion creamos una instancia de HMAC usando el método new() dándole la clave y el mensaje como bytes y el nombre del algoritmo de hashing como sha1. A continuación, imprimimos el código de autenticación del mensaje."
      ],
      "metadata": {
        "id": "8R7viD3R4Uz_"
      }
    },
    {
      "cell_type": "code",
      "source": [
        "import hmac\n",
        "\n",
        "message = \"Bienvenido a Criptografia\"\n",
        "key= \"alakazam\"\n",
        "\n",
        "hmac1 = hmac.new(key=key.encode(), msg=message.encode(), digestmod=\"sha1\")\n",
        "message_digest1 = hmac1.digest()\n",
        "\n",
        "print(\"{} - Message Digest 1 : {}\".format(hmac1.name, message_digest1))\n",
        "# b'\\xb7\\x10\\xec\\xfd\\x94\\xcbG\\xafT\\x03\\xb1\\x81T\\xad\\x004\\x16\\xdc\\x9f\\xc2'"
      ],
      "metadata": {
        "colab": {
          "base_uri": "https://localhost:8080/"
        },
        "id": "BLsz_LWD3hmL",
        "outputId": "d96655b6-871f-406e-e01b-5d50469ee5cb"
      },
      "execution_count": null,
      "outputs": [
        {
          "output_type": "stream",
          "name": "stdout",
          "text": [
            "hmac-sha1 - Message Digest 1 : b'\\xb7\\x10\\xec\\xfd\\x94\\xcbG\\xafT\\x03\\xb1\\x81T\\xad\\x004\\x16\\xdc\\x9f\\xc2'\n"
          ]
        }
      ]
    },
    {
      "cell_type": "markdown",
      "source": [
        "Nuestra segunda parte del código crea la instancia HMAC sin ningún mensaje inicial. A continuación, utiliza el método update() para añadir el mensaje. Por último, calcula el resumen y lo imprime."
      ],
      "metadata": {
        "id": "Q6XlV9da4ZJB"
      }
    },
    {
      "cell_type": "code",
      "source": [
        "hmac2 = hmac.new(key=key.encode(), digestmod=\"blake2s\")\n",
        "hmac2.update(bytes(message, encoding=\"utf-8\"))\n",
        "message_digest2 = hmac2.digest()\n",
        "\n",
        "print(\"{} - Message Digest 2 : {}\".format(hmac2.name, message_digest2))"
      ],
      "metadata": {
        "colab": {
          "base_uri": "https://localhost:8080/"
        },
        "id": "sAIaK7283rhc",
        "outputId": "ea441a2e-04fc-48c3-c57e-1b0ee93b63c1"
      },
      "execution_count": null,
      "outputs": [
        {
          "output_type": "stream",
          "name": "stdout",
          "text": [
            "hmac-blake2s - Message Digest 2 : b\"\\xd5Q\\xe0\\xe2O\\xf9A\\xec\\xaf\\x1a;\\xeff\\xd7L\\xb4e\\xc5\\x18\\xad'\\x17 \\xec\\xf80\\xe3\\xfb\\x03\\x1dD\\xcd\"\n"
          ]
        }
      ]
    },
    {
      "cell_type": "markdown",
      "source": [
        "Nuestra tercera parte del código crea una instancia de HMAC sin ningún mensaje inicial. A continuación, añade mensajes en dos partes utilizando el método update(). Por último, calcula el resumen y lo imprime."
      ],
      "metadata": {
        "id": "fpkC8bCr4e6g"
      }
    },
    {
      "cell_type": "code",
      "source": [
        "hmac3 = hmac.new(key=key.encode(), digestmod=\"sha1\")\n",
        "hmac3.update(bytes(\"Bienvenido a \", encoding=\"utf-8\"))\n",
        "hmac3.update(bytes(\"Criptografia\", encoding=\"utf-8\"))\n",
        "message_digest3 = hmac3.digest()\n",
        "\n",
        "print(\"{} - Message Digest 3 : {}\".format(hmac3.name, message_digest3))"
      ],
      "metadata": {
        "colab": {
          "base_uri": "https://localhost:8080/"
        },
        "id": "ThUFWe6X3r4S",
        "outputId": "9f07ab91-0991-4413-ca69-f616c1dbea57"
      },
      "execution_count": null,
      "outputs": [
        {
          "output_type": "stream",
          "name": "stdout",
          "text": [
            "hmac-sha1 - Message Digest 3 : b'\\xb7\\x10\\xec\\xfd\\x94\\xcbG\\xafT\\x03\\xb1\\x81T\\xad\\x004\\x16\\xdc\\x9f\\xc2'\n"
          ]
        }
      ]
    },
    {
      "cell_type": "markdown",
      "source": [
        "El código imprime por fin el tamaño del compendio y el tamaño del bloque para cada instancia HMAC."
      ],
      "metadata": {
        "id": "onUJhibS4jRT"
      }
    },
    {
      "cell_type": "code",
      "source": [
        "print(\"\\nMessage Digest Size for 1 : {}, 2 : {} and 3 : {}\".format(hmac1.digest_size, hmac2.digest_size,hmac3.digest_size,))\n",
        "print(\"Message Block  Size for 1 : {}, 2 : {} and 3 : {}\".format(hmac1.block_size, hmac2.block_size,hmac3.block_size,))"
      ],
      "metadata": {
        "colab": {
          "base_uri": "https://localhost:8080/"
        },
        "id": "mwL0dWBw3v6h",
        "outputId": "908cc6dd-a024-41fc-9f25-fdde0d75a492"
      },
      "execution_count": null,
      "outputs": [
        {
          "output_type": "stream",
          "name": "stdout",
          "text": [
            "\n",
            "Message Digest Size for 1 : 16, 2 : 32 and 3 : 20\n",
            "Message Block  Size for 1 : 64, 2 : 64 and 3 : 64\n"
          ]
        }
      ]
    },
    {
      "cell_type": "markdown",
      "source": [
        "## Ejemplo 2"
      ],
      "metadata": {
        "id": "6WvdM-0p42SW"
      }
    },
    {
      "cell_type": "markdown",
      "source": [
        "Vamos explicar cómo podemos calcular el código de autenticación de mensajes utilizando el algoritmo HMAC de nuevo, pero esta vez hemos utilizado el algoritmo de hashing seguro SHA256 dentro de él.\n",
        "\n",
        "Nuestro código para esta parte es exactamente el mismo que nuestro ejemplo anterior pero con pequeños cambios. Utiliza una referencia al algoritmo SHA256 disponible a través de la biblioteca hashlib."
      ],
      "metadata": {
        "id": "xd83IUDw45l4"
      }
    },
    {
      "cell_type": "code",
      "source": [
        "hmac1 = hmac.new(key=key.encode(), msg=message.encode(), digestmod=hashlib.sha256)\n",
        "message_digest1 = hmac1.digest()\n",
        "\n",
        "print(\"{} - Message Digest 1 : {}\".format(hmac1.name, message_digest1))"
      ],
      "metadata": {
        "colab": {
          "base_uri": "https://localhost:8080/"
        },
        "id": "bUloido45J-Y",
        "outputId": "c87a8a9f-cb31-4504-a814-cb6ff58fea13"
      },
      "execution_count": null,
      "outputs": [
        {
          "output_type": "stream",
          "name": "stdout",
          "text": [
            "hmac-sha256 - Message Digest 1 : b'\\xb6\\x87\\xf9f\\xf3\\x11f\\xba\\xab\\x9eQ0C\\\\\\x96\"\\x0cD\\xf2\\xe2\\x18}\\xe0\\x80\\xc6\\xf9\\xa6\\xada5\\x9a\\x15'\n"
          ]
        }
      ]
    },
    {
      "cell_type": "code",
      "source": [
        "hmac2 = hmac.new(key=key.encode(), digestmod=hashlib.sha256)\n",
        "hmac2.update(bytes(message, encoding=\"utf-8\"))\n",
        "message_digest2 = hmac2.digest()\n",
        "\n",
        "print(\"{} - Message Digest 2 : {}\".format(hmac2.name, message_digest2))"
      ],
      "metadata": {
        "colab": {
          "base_uri": "https://localhost:8080/"
        },
        "id": "govY9D-G5Kau",
        "outputId": "fbac02f9-6edd-4fa7-ef5e-4a4a04a37b95"
      },
      "execution_count": null,
      "outputs": [
        {
          "output_type": "stream",
          "name": "stdout",
          "text": [
            "hmac-sha256 - Message Digest 2 : b'\\xb6\\x87\\xf9f\\xf3\\x11f\\xba\\xab\\x9eQ0C\\\\\\x96\"\\x0cD\\xf2\\xe2\\x18}\\xe0\\x80\\xc6\\xf9\\xa6\\xada5\\x9a\\x15'\n"
          ]
        }
      ]
    },
    {
      "cell_type": "code",
      "source": [
        "hmac3 = hmac.new(key=key.encode(), digestmod=hashlib.sha256)\n",
        "hmac3.update(bytes(\"Bienvenido a \", encoding=\"utf-8\"))\n",
        "hmac3.update(bytes(\"Criptografia\", encoding=\"utf-8\"))\n",
        "message_digest3 = hmac3.digest()\n",
        "\n",
        "print(\"{} - Message Digest 3 : {}\".format(hmac3.name, message_digest3))"
      ],
      "metadata": {
        "colab": {
          "base_uri": "https://localhost:8080/"
        },
        "id": "ITo77CkM5Km2",
        "outputId": "26de588d-85c6-4a9f-e748-3ebc5933d7f7"
      },
      "execution_count": null,
      "outputs": [
        {
          "output_type": "stream",
          "name": "stdout",
          "text": [
            "hmac-sha256 - Message Digest 3 : b'\\xb6\\x87\\xf9f\\xf3\\x11f\\xba\\xab\\x9eQ0C\\\\\\x96\"\\x0cD\\xf2\\xe2\\x18}\\xe0\\x80\\xc6\\xf9\\xa6\\xada5\\x9a\\x15'\n"
          ]
        }
      ]
    },
    {
      "cell_type": "code",
      "source": [
        "print(\"\\nMessage Digest Size for 1 : {}, 2 : {} and 3 : {}\".format(hmac1.digest_size, hmac2.digest_size,hmac3.digest_size,))\n",
        "print(\"Message Block  Size for 1 : {}, 2 : {} and 3 : {}\".format(hmac1.block_size, hmac2.block_size,hmac3.block_size,))"
      ],
      "metadata": {
        "colab": {
          "base_uri": "https://localhost:8080/"
        },
        "id": "xB3Z0Qvb5KzU",
        "outputId": "12a904fe-2d18-4328-95a1-6d22197d05a0"
      },
      "execution_count": null,
      "outputs": [
        {
          "output_type": "stream",
          "name": "stdout",
          "text": [
            "\n",
            "Message Digest Size for 1 : 32, 2 : 32 and 3 : 32\n",
            "Message Block  Size for 1 : 64, 2 : 64 and 3 : 64\n"
          ]
        }
      ]
    },
    {
      "cell_type": "markdown",
      "source": [
        "## Ejemplo 3"
      ],
      "metadata": {
        "id": "VB5QVc8J5jd0"
      }
    },
    {
      "cell_type": "markdown",
      "source": [
        "Este ejemplo explica cómo podemos generar el código de autenticación de mensajes hexadecimales utilizando el algoritmo HMAC con SHA256 como su extremo posterior.\n",
        "\n",
        "Nuestro código para este ejemplo es exactamente el mismo que nuestro ejemplo anterior con el único cambio de que estamos llamando al método hexdigest() para calcular el código de autenticación hexadecimal."
      ],
      "metadata": {
        "id": "s-tg9yrQ5jd-"
      }
    },
    {
      "cell_type": "code",
      "source": [
        "hmac1 = hmac.new(key=key.encode(), msg=message.encode(), digestmod=hashlib.sha256)\n",
        "message_digest1 = hmac1.hexdigest()\n",
        "\n",
        "print(\"{} - Hex Message Digest 1 : {}\".format(hmac1.name, message_digest1))"
      ],
      "metadata": {
        "colab": {
          "base_uri": "https://localhost:8080/"
        },
        "outputId": "4c4f22ef-cd17-4d89-e88b-fd7fda4bf657",
        "id": "bv7RgdH35jd_"
      },
      "execution_count": null,
      "outputs": [
        {
          "output_type": "stream",
          "name": "stdout",
          "text": [
            "hmac-sha256 - Hex Message Digest 1 : b687f966f31166baab9e5130435c96220c44f2e2187de080c6f9a6ad61359a15\n"
          ]
        }
      ]
    },
    {
      "cell_type": "code",
      "source": [
        "hmac2 = hmac.new(key=key.encode(), digestmod=hashlib.sha256)\n",
        "hmac2.update(bytes(message, encoding=\"utf-8\"))\n",
        "message_digest2 = hmac2.hexdigest()\n",
        "\n",
        "print(\"{} - Hex Message Digest 2 : {}\".format(hmac2.name, message_digest2))"
      ],
      "metadata": {
        "colab": {
          "base_uri": "https://localhost:8080/"
        },
        "outputId": "fa96b874-b68e-4c1f-ce4d-5725c40f9265",
        "id": "KrH-4QUS5jeB"
      },
      "execution_count": null,
      "outputs": [
        {
          "output_type": "stream",
          "name": "stdout",
          "text": [
            "hmac-sha256 - Hex Message Digest 2 : b687f966f31166baab9e5130435c96220c44f2e2187de080c6f9a6ad61359a15\n"
          ]
        }
      ]
    },
    {
      "cell_type": "code",
      "source": [
        "hmac3 = hmac.new(key=key.encode(), digestmod=hashlib.sha256)\n",
        "hmac3.update(bytes(\"Bienvenido a \", encoding=\"utf-8\"))\n",
        "hmac3.update(bytes(\"Criptografia\", encoding=\"utf-8\"))\n",
        "message_digest3 = hmac3.hexdigest()\n",
        "\n",
        "print(\"{} - Hex Message Digest 3 : {}\".format(hmac3.name, message_digest3))"
      ],
      "metadata": {
        "colab": {
          "base_uri": "https://localhost:8080/"
        },
        "outputId": "fd3cc75b-0eb9-479c-8342-7f41e66dfa28",
        "id": "OUEL6gwj5jeB"
      },
      "execution_count": null,
      "outputs": [
        {
          "output_type": "stream",
          "name": "stdout",
          "text": [
            "hmac-sha256 - Hex Message Digest 3 : b687f966f31166baab9e5130435c96220c44f2e2187de080c6f9a6ad61359a15\n"
          ]
        }
      ]
    },
    {
      "cell_type": "code",
      "source": [
        "print(\"\\nMessage Digest Size for 1 : {}, 2 : {} and 3 : {}\".format(hmac1.digest_size, hmac2.digest_size,hmac3.digest_size,))\n",
        "print(\"Message Block  Size for 1 : {}, 2 : {} and 3 : {}\".format(hmac1.block_size, hmac2.block_size,hmac3.block_size,))"
      ],
      "metadata": {
        "colab": {
          "base_uri": "https://localhost:8080/"
        },
        "outputId": "a93f3219-59fa-4c32-f98c-33b14eb307b0",
        "id": "juGEEFRH5jeB"
      },
      "execution_count": null,
      "outputs": [
        {
          "output_type": "stream",
          "name": "stdout",
          "text": [
            "\n",
            "Message Digest Size for 1 : 32, 2 : 32 and 3 : 32\n",
            "Message Block  Size for 1 : 64, 2 : 64 and 3 : 64\n"
          ]
        }
      ]
    },
    {
      "cell_type": "markdown",
      "source": [
        "## Ejemplo 4"
      ],
      "metadata": {
        "id": "Jk66rpxN642T"
      }
    },
    {
      "cell_type": "markdown",
      "source": [
        "Este ejemplo explica cómo podemos generar un código de autenticación de mensajes utilizando el método digest() del módulo hmac sin crear una instancia del HMAC.\n",
        "> - digest(key,msg,digest) - Acepta la clave, el mensaje a codificar y el algoritmo de digestión como entrada y genera el código de autentificación del mensaje para el mensaje de entrada dado.\n",
        "\n",
        "Este ejemplo explica cómo podemos usar el método digest() para generar el código de autenticación del mensaje dado usando la clave de entrada directamente sin crear una instancia de HMAC como en el ejemplo anterior. Este método funciona rápidamente en comparación con la creación de código de autenticación para los mensajes pequeños a través de la instancia HMAC, ya que utiliza la implementación optimizada de C para la creación de compendio."
      ],
      "metadata": {
        "id": "cDiPtKzz642q"
      }
    },
    {
      "cell_type": "code",
      "source": [
        "message_digest1 = hmac.digest(key=key.encode(), msg=message.encode(), digest=\"sha3_256\")\n",
        "\n",
        "print(\"Message Digest 1 : {}\".format(message_digest1))"
      ],
      "metadata": {
        "colab": {
          "base_uri": "https://localhost:8080/"
        },
        "outputId": "ec5328c7-0333-493a-ca54-da4b49520f88",
        "id": "MSx8l2aZ642r"
      },
      "execution_count": null,
      "outputs": [
        {
          "output_type": "stream",
          "name": "stdout",
          "text": [
            "Message Digest 1 : b'\\xf45!+R\\x9a\\xf5\\xa9\\xe4y\\x87U\\x97W>\\xcc\\nS\\xd3\\x06n\\xe3C&)G*TF\\x00\\x16\\n'\n"
          ]
        }
      ]
    },
    {
      "cell_type": "code",
      "source": [
        "message_digest2 = hmac.digest(key=key.encode(), msg=bytes(message, encoding=\"utf-8\"), digest=hashlib.sha3_256)\n",
        "\n",
        "print(\"Message Digest 2 : {}\".format(message_digest2))"
      ],
      "metadata": {
        "colab": {
          "base_uri": "https://localhost:8080/"
        },
        "outputId": "ecf6d167-1715-4515-8027-71b61cbcf8e5",
        "id": "g_Bx9_vJ642t"
      },
      "execution_count": null,
      "outputs": [
        {
          "output_type": "stream",
          "name": "stdout",
          "text": [
            "Message Digest 2 : b'\\xf45!+R\\x9a\\xf5\\xa9\\xe4y\\x87U\\x97W>\\xcc\\nS\\xd3\\x06n\\xe3C&)G*TF\\x00\\x16\\n'\n"
          ]
        }
      ]
    },
    {
      "cell_type": "markdown",
      "source": [
        "## Ejemplo 5"
      ],
      "metadata": {
        "id": "VTK-bZK38awb"
      }
    },
    {
      "cell_type": "markdown",
      "source": [
        "Este ejemplo explica cómo podemos utilizar el método compare() del módulo hmac para comparar los códigos de autentificación de los mensajes.\n",
        "> - compare(a,b) - Esta función compara dos códigos de autenticación de mensajes y devuelve True si son iguales o False. Ayuda a prevenir ataques de análisis de tiempo que pueden ayudar a los atacantes a conocer el tamaño del código de autenticación de mensajes.\n",
        "\n",
        "El ejemplo crea dos códigos de autenticación de mensajes y los compara utilizando el método compare()."
      ],
      "metadata": {
        "id": "MyzQiZxB8awj"
      }
    },
    {
      "cell_type": "code",
      "source": [
        "message_digest1 = hmac.digest(key=key.encode(), msg=message.encode(), digest=\"sha3_256\")\n",
        "\n",
        "print(\"Message Digest 1 : {}\".format(message_digest1))"
      ],
      "metadata": {
        "colab": {
          "base_uri": "https://localhost:8080/"
        },
        "outputId": "65148785-2d81-48d8-940b-93e6f6e2726d",
        "id": "5ZkkdWMp8awj"
      },
      "execution_count": null,
      "outputs": [
        {
          "output_type": "stream",
          "name": "stdout",
          "text": [
            "Message Digest 1 : b'\\xf45!+R\\x9a\\xf5\\xa9\\xe4y\\x87U\\x97W>\\xcc\\nS\\xd3\\x06n\\xe3C&)G*TF\\x00\\x16\\n'\n"
          ]
        }
      ]
    },
    {
      "cell_type": "code",
      "source": [
        "message_digest2 = hmac.digest(key=key.encode(), msg=bytes(message, encoding=\"utf-8\"), digest=hashlib.sha3_256)\n",
        "\n",
        "print(\"Message Digest 2 : {}\".format(message_digest2))"
      ],
      "metadata": {
        "colab": {
          "base_uri": "https://localhost:8080/"
        },
        "outputId": "8944e003-472a-4173-8ccb-bcd56a191877",
        "id": "SNmRObIa8awj"
      },
      "execution_count": null,
      "outputs": [
        {
          "output_type": "stream",
          "name": "stdout",
          "text": [
            "Message Digest 2 : b'\\xf45!+R\\x9a\\xf5\\xa9\\xe4y\\x87U\\x97W>\\xcc\\nS\\xd3\\x06n\\xe3C&)G*TF\\x00\\x16\\n'\n"
          ]
        }
      ]
    },
    {
      "cell_type": "code",
      "source": [
        "print(\"\\nIs message digest 1 is equal to message digest 2? : {}\".format(hmac.compare_digest(message_digest1, message_digest2)))"
      ],
      "metadata": {
        "colab": {
          "base_uri": "https://localhost:8080/"
        },
        "id": "aDDO4fgb89gL",
        "outputId": "26dbf066-8230-4af3-9152-ec5dab9131e1"
      },
      "execution_count": null,
      "outputs": [
        {
          "output_type": "stream",
          "name": "stdout",
          "text": [
            "\n",
            "Is message digest 1 is equal to message digest 2? : True\n"
          ]
        }
      ]
    }
  ]
}