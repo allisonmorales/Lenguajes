{
  "nbformat": 4,
  "nbformat_minor": 0,
  "metadata": {
    "colab": {
      "name": "Funciones_de_probabilidad.ipynb",
      "provenance": [],
      "collapsed_sections": [],
      "include_colab_link": true
    },
    "kernelspec": {
      "name": "python3",
      "display_name": "Python 3"
    },
    "language_info": {
      "name": "python"
    }
  },
  "cells": [
    {
      "cell_type": "markdown",
      "metadata": {
        "id": "view-in-github",
        "colab_type": "text"
      },
      "source": [
        "<a href=\"https://colab.research.google.com/github/allisonmorales/Lenguajes/blob/gh-pages/Funciones_de_probabilidad.ipynb\" target=\"_parent\"><img src=\"https://colab.research.google.com/assets/colab-badge.svg\" alt=\"Open In Colab\"/></a>"
      ]
    },
    {
      "cell_type": "code",
      "execution_count": 1,
      "metadata": {
        "id": "sMxiHJrZdxww"
      },
      "outputs": [],
      "source": [
        "from scipy.stats import norm\n",
        "from matplotlib  import pyplot as plt\n",
        "import numpy as np\n",
        "import math\n",
        "\n",
        "import warnings\n",
        "warnings.filterwarnings(\"ignore\")\n"
      ]
    },
    {
      "cell_type": "code",
      "source": [
        "plt.figure(figsize=(10,5))"
      ],
      "metadata": {
        "colab": {
          "base_uri": "https://localhost:8080/",
          "height": 52
        },
        "id": "4RnZft2iewb0",
        "outputId": "d6e49e6d-743e-48eb-acc2-0dd9ebc871e8"
      },
      "execution_count": 2,
      "outputs": [
        {
          "output_type": "execute_result",
          "data": {
            "text/plain": [
              "<Figure size 720x360 with 0 Axes>"
            ]
          },
          "metadata": {},
          "execution_count": 2
        },
        {
          "output_type": "display_data",
          "data": {
            "text/plain": [
              "<Figure size 720x360 with 0 Axes>"
            ]
          },
          "metadata": {}
        }
      ]
    },
    {
      "cell_type": "code",
      "source": [
        "alpha = 17\n",
        "media1 = 0\n",
        "media2 = media1 + alpha\n",
        "\n",
        "Y1 = np.random.normal(0, 1, 1000000)\n",
        "Y2 = alpha + Y1 \n",
        "\n",
        "plt.hist(Y1, bins=100, alpha=0.75, color =\"blue\", density =\"true\")\n",
        "plt.hist(Y2, bins=100, alpha=0.75, color =\"red\", density =\"true\")\n",
        "\n",
        "plt.axvline(0, color = 'black', linestyle='dashed',linewidth=2)\n",
        "plt.axvline(alpha, color ='yellow', linestyle='dashed', linewidth=2)\n",
        "plt.legend([\"Eje curva normal\",\"Eje curva reposicionada\",\"Curva normal\",\"Curva normal reposicionada\"])\n",
        "\n",
        "plt.show"
      ],
      "metadata": {
        "colab": {
          "base_uri": "https://localhost:8080/",
          "height": 282
        },
        "id": "iJm9oYeRe7Iq",
        "outputId": "66579d7b-82df-4811-b73c-b05f1421face"
      },
      "execution_count": 3,
      "outputs": [
        {
          "output_type": "execute_result",
          "data": {
            "text/plain": [
              "<function matplotlib.pyplot.show>"
            ]
          },
          "metadata": {},
          "execution_count": 3
        },
        {
          "output_type": "display_data",
          "data": {
            "image/png": "[encoded data removed]",
            "text/plain": [
              "<Figure size 432x288 with 1 Axes>"
            ]
          },
          "metadata": {
            "needs_background": "light"
          }
        }
      ]
    },
    {
      "cell_type": "code",
      "source": [
        "from scipy.stats import norm\n",
        "from matplotlib import pyplot as plt\n",
        "import numpy as np\n",
        "import math\n",
        "\n",
        "import warnings\n",
        "warnings.filterwarnings(\"ignore\")\n",
        "\n",
        "plt.figure(figsize=(10,5))\n",
        "\n",
        "alpha = 17\n",
        "media1 = 0\n",
        "var1 = 1\n",
        "Y1 = np.random.normal(media1, var1, 1000000)\n",
        "\n",
        "media2 = media1 + alpha\n",
        "var2 =var1\n",
        "\n",
        "\n",
        "\n",
        "Y2 = np.random.normal(media2, var2, 1000000)\n",
        "\n",
        "plt.hist(Y1, bins=100, alpha=0.75, color =\"blue\", density =\"true\")\n",
        "plt.hist(Y2, bins=100, alpha=0.75, color =\"red\", density =\"true\")\n",
        "\n",
        "plt.axvline(0, color = 'black', linestyle='dashed',linewidth=2)\n",
        "plt.axvline(alpha, color ='yellow', linestyle='dashed', linewidth=2)\n",
        "plt.legend([\"Eje curva normal\",\"Eje curva reposicionada\",\"Curva normal\",\"Curva normal reposicionada\"])\n",
        "\n",
        "plt.show"
      ],
      "metadata": {
        "colab": {
          "base_uri": "https://localhost:8080/",
          "height": 337
        },
        "id": "VPhim3dHjWzD",
        "outputId": "54b4fb10-9650-4384-d8e3-a8b67e8c3e38"
      },
      "execution_count": 4,
      "outputs": [
        {
          "output_type": "execute_result",
          "data": {
            "text/plain": [
              "<function matplotlib.pyplot.show>"
            ]
          },
          "metadata": {},
          "execution_count": 4
        },
        {
          "output_type": "display_data",
          "data": {
            "image/png": "[encoded data removed]",
            "text/plain": [
              "<Figure size 720x360 with 1 Axes>"
            ]
          },
          "metadata": {
            "needs_background": "light"
          }
        }
      ]
    }
  ]
}